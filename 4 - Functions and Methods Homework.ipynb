{
 "cells": [
  {
   "cell_type": "markdown",
   "metadata": {},
   "source": [
    "# Functions and Methods Exercises  \n",
    "\n",
    "Complete the following questions:\n",
    "____\n",
    "**Viết function trả về thể tích một khối cầu khi cho bán kính của nó.**\n",
    "<p>HINT: Công thức tính thể tích khối cầu: $$\\frac{4}{3} πr^3$$</p>"
   ]
  },
  {
   "cell_type": "code",
   "execution_count": 16,
   "metadata": {},
   "outputs": [],
   "source": [
    "def vol(rad):\n",
    "    import math\n",
    "    print(4/3*pow(rad,3)*math.pi)\n",
    "    pass"
   ]
  },
  {
   "cell_type": "code",
   "execution_count": 17,
   "metadata": {},
   "outputs": [
    {
     "name": "stdout",
     "output_type": "stream",
     "text": [
      "33.510321638291124\n"
     ]
    }
   ],
   "source": [
    "# Check\n",
    "vol(2)"
   ]
  },
  {
   "cell_type": "markdown",
   "metadata": {},
   "source": [
    "___\n",
    "**Viết function kiểm tra xem một số có nằm trong một dãy số nhất định không (dãy số được nhận biết bằng một số bắt đầu và một số kết thúc)**"
   ]
  },
  {
   "cell_type": "code",
   "execution_count": 20,
   "metadata": {},
   "outputs": [],
   "source": [
    "def ran_check(num,low,high):\n",
    "    if (num>=low) and (num<=high):\n",
    "        print(\"So {} co nam trong day so da cho\".format(num))\n",
    "    pass"
   ]
  },
  {
   "cell_type": "code",
   "execution_count": 21,
   "metadata": {},
   "outputs": [
    {
     "name": "stdout",
     "output_type": "stream",
     "text": [
      "So 5 co nam trong day so da cho\n"
     ]
    }
   ],
   "source": [
    "# Check\n",
    "ran_check(5,2,7)"
   ]
  },
  {
   "cell_type": "markdown",
   "metadata": {},
   "source": [
    "Đề bài như trên nhưng chỉ trả về True hoặc False:"
   ]
  },
  {
   "cell_type": "code",
   "execution_count": 30,
   "metadata": {},
   "outputs": [],
   "source": [
    "def ran_bool(num,low,high):\n",
    "    if (num>=low) and (num<=high):\n",
    "        print(True)\n",
    "    pass"
   ]
  },
  {
   "cell_type": "code",
   "execution_count": 31,
   "metadata": {},
   "outputs": [
    {
     "name": "stdout",
     "output_type": "stream",
     "text": [
      "True\n"
     ]
    }
   ],
   "source": [
    "ran_bool(3,1,10)"
   ]
  },
  {
   "cell_type": "markdown",
   "metadata": {},
   "source": [
    "____\n",
    "**Viết một function nhận một string làm input và tính số lượng chữ cái viết hoa và số lượng chữ cái viết thường sau đó trả về kết quả đó.**\n",
    "\n",
    "    Sample String : 'Hello Mr. Rogers, how are you this fine Tuesday?'\n",
    "    Expected Output : \n",
    "    No. of Upper case characters : 4\n",
    "    No. of Lower case Characters : 33\n",
    "\n",
    "HINT: 2 string methods quan trọng: **.isupper()** and **.islower()**\n",
    "\n",
    "Note: Ký tự đặc biệt không có giá trị trong bài tập này!"
   ]
  },
  {
   "cell_type": "code",
   "execution_count": 40,
   "metadata": {},
   "outputs": [],
   "source": [
    "def up_low(s):\n",
    "    u=0\n",
    "    d=0\n",
    "    for i in s:\n",
    "        if i.isupper():\n",
    "            u+=1\n",
    "        elif i.islower():\n",
    "            d+=1\n",
    "    print('So kis tu chu cai in hoa la: {}'.format(u))\n",
    "    print('So kis tu chu cai in thuong la: {}'.format(d))\n",
    "    pass"
   ]
  },
  {
   "cell_type": "code",
   "execution_count": 41,
   "metadata": {},
   "outputs": [
    {
     "name": "stdout",
     "output_type": "stream",
     "text": [
      "So kis tu chu cai in hoa la: 4\n",
      "So kis tu chu cai in thuong la: 33\n"
     ]
    }
   ],
   "source": [
    "s = 'Hello Mr. Rogers, how are you this fine Tuesday?'\n",
    "up_low(s)"
   ]
  },
  {
   "cell_type": "markdown",
   "metadata": {},
   "source": [
    "____\n",
    "**Viết một function có input là một list sau đó trả lại các giá trị duy nhất của list đó thành một list khác.**\n",
    "\n",
    "    Sample List : [1,1,1,1,2,2,3,3,3,3,4,5]\n",
    "    Unique List : [1, 2, 3, 4, 5]\n",
    "\n",
    "Note: Chú ý kiểu dữ liệu của kết quả trả lại phải là list."
   ]
  },
  {
   "cell_type": "code",
   "execution_count": 72,
   "metadata": {},
   "outputs": [],
   "source": [
    "def unique_list(lst):\n",
    "    print(list(set(lst)))\n",
    "    pass"
   ]
  },
  {
   "cell_type": "code",
   "execution_count": 73,
   "metadata": {},
   "outputs": [
    {
     "name": "stdout",
     "output_type": "stream",
     "text": [
      "[1, 2, 3, 4, 5]\n"
     ]
    }
   ],
   "source": [
    "unique_list([1,1,1,1,2,2,3,3,3,3,4,5])"
   ]
  },
  {
   "cell_type": "markdown",
   "metadata": {},
   "source": [
    "____\n",
    "**Viết một hàm, với input là một list số, trả lại tích của tất cả các số trong list input.**\n",
    "\n",
    "    Sample List : [1, 2, 3, -4]\n",
    "    Expected Output : -24"
   ]
  },
  {
   "cell_type": "code",
   "execution_count": 76,
   "metadata": {},
   "outputs": [],
   "source": [
    "def multiply(numbers):  \n",
    "    p=1\n",
    "    for i in numbers:\n",
    "        p*=i\n",
    "    print(p)\n",
    "    pass"
   ]
  },
  {
   "cell_type": "code",
   "execution_count": 77,
   "metadata": {},
   "outputs": [
    {
     "name": "stdout",
     "output_type": "stream",
     "text": [
      "-24\n"
     ]
    }
   ],
   "source": [
    "multiply([1,2,3,-4])"
   ]
  },
  {
   "cell_type": "markdown",
   "metadata": {},
   "source": [
    "____\n",
    "**Viết một hàm check xem một từ hoặc một câu có phải là từ/câu palindrom hay không?**\n",
    "\n",
    "Note: Một từ hoặc một câu được gọi là palindrom khi và chỉ khi đọc ngược hoặc xuôi nó đều như nhau. Vi dụ: madam, abcba,...\n",
    "\n",
    "Note: Một từ bao gồm một chữ cái cũng coi là một từ palindrom.\n",
    "\n",
    "HINT: Có thể tra trên mạng method .replace() để giúp loại bỏ dấu cách khi so sánh."
   ]
  },
  {
   "cell_type": "code",
   "execution_count": 11,
   "metadata": {},
   "outputs": [],
   "source": [
    "def palindrome(s):\n",
    "    d=0\n",
    "    lst=[i for i in s]\n",
    "    lst.reverse()\n",
    "    s1=\"\".join(lst)\n",
    "    if s1==s:\n",
    "        print (True)\n",
    "    else:\n",
    "        print(False)\n",
    "    pass"
   ]
  },
  {
   "cell_type": "code",
   "execution_count": 15,
   "metadata": {},
   "outputs": [
    {
     "name": "stdout",
     "output_type": "stream",
     "text": [
      "True\n"
     ]
    }
   ],
   "source": [
    "palindrome('helleh')"
   ]
  },
  {
   "cell_type": "markdown",
   "metadata": {},
   "source": [
    "____\n",
    "#### Bài tập khó:\n",
    "\n",
    "**Viết một function check xem một string có phải là một pangram hay không (Giả dụ string pass cho hàm không có dấu chấm câu).**\n",
    "\n",
    "    Note : Pangrams là các từ hoặc câu có chứa các kí tự trong bảng chữ cái alphabet ít nhất một lần.\n",
    "    Ví dụ : \"The quick brown fox jumps over the lazy dog\"\n",
    "\n",
    "Hint: Có thể sử dụng method .replace().\n",
    "\n",
    "Hint: Xem: [string module](https://stackoverflow.com/questions/16060899/alphabet-range-in-python)\n",
    "\n",
    "Hint: Nếu muốn so sánh set: [set comparisons](https://medium.com/better-programming/a-visual-guide-to-set-comparisons-in-python-6ab7edb9ec41)"
   ]
  },
  {
   "cell_type": "code",
   "execution_count": 68,
   "metadata": {},
   "outputs": [],
   "source": [
    "import string\n",
    "\n",
    "def ispangram(str1, alphabet=string.ascii_lowercase):\n",
    "    st=''\n",
    "    for i in str1:\n",
    "        if i.isalpha():\n",
    "            st=st+i.casefold()\n",
    "    d=0\n",
    "    for i in set(st):\n",
    "        if alphabet.count(i):\n",
    "            d+=1\n",
    "    if d==26:\n",
    "        print(True)\n",
    "    pass"
   ]
  },
  {
   "cell_type": "code",
   "execution_count": 69,
   "metadata": {},
   "outputs": [
    {
     "name": "stdout",
     "output_type": "stream",
     "text": [
      "True\n"
     ]
    }
   ],
   "source": [
    "ispangram(\"The quick brown fox jumps over the lazy dog\")"
   ]
  },
  {
   "cell_type": "code",
   "execution_count": 17,
   "metadata": {},
   "outputs": [
    {
     "data": {
      "text/plain": [
       "'abcdefghijklmnopqrstuvwxyz'"
      ]
     },
     "execution_count": 17,
     "metadata": {},
     "output_type": "execute_result"
    }
   ],
   "source": [
    "string.ascii_lowercase"
   ]
  },
  {
   "cell_type": "markdown",
   "metadata": {
    "collapsed": true
   },
   "source": [
    "#### Great Job!"
   ]
  }
 ],
 "metadata": {
  "kernelspec": {
   "display_name": "Python 3",
   "language": "python",
   "name": "python3"
  },
  "language_info": {
   "codemirror_mode": {
    "name": "ipython",
    "version": 3
   },
   "file_extension": ".py",
   "mimetype": "text/x-python",
   "name": "python",
   "nbconvert_exporter": "python",
   "pygments_lexer": "ipython3",
   "version": "3.8.5"
  }
 },
 "nbformat": 4,
 "nbformat_minor": 1
}
